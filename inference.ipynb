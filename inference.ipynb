{
 "cells": [
  {
   "cell_type": "code",
   "execution_count": null,
   "metadata": {},
   "outputs": [],
   "source": [
    "import librosa\n",
    "import pandas as pd\n",
    "from glob import glob\n",
    "import numpy as np"
   ]
  },
  {
   "cell_type": "code",
   "execution_count": null,
   "metadata": {},
   "outputs": [],
   "source": [
    "mel_dir = \"/data/codes/speech-to-text/stt/data/data_new/mel\"\n",
    "length = []\n",
    "for file in glob(f'{mel_dir}/*.npy'):\n",
    "    data = np.load(file)\n",
    "    length.append(data.shape[0])\n",
    "pd.DataFrame(length).hist(bins=1000)"
   ]
  },
  {
   "cell_type": "code",
   "execution_count": null,
   "metadata": {},
   "outputs": [],
   "source": [
    "mel_dir = \"/data/codes/speech-to-text/stt/data/data_sale/mel\"\n",
    "length = []\n",
    "for file in glob(f'{mel_dir}/*.npy'):\n",
    "    data = np.load(file)\n",
    "    length.append(data.shape[0])\n",
    "pd.DataFrame(length).hist(bins=1000)"
   ]
  },
  {
   "cell_type": "code",
   "execution_count": null,
   "metadata": {},
   "outputs": [],
   "source": [
    "from torch.utils.data import DataLoader\n",
    "import numpy as np\n",
    "import argparse\n",
    "import torch\n",
    "import yaml\n",
    "import re\n",
    "import shutil\n",
    "\n",
    "from utils.model import get_model, get_vocoder\n",
    "from utils.tools import to_device, synth_samples\n",
    "from text import phoneme_to_ids\n"
   ]
  },
  {
   "cell_type": "code",
   "execution_count": null,
   "metadata": {},
   "outputs": [],
   "source": [
    "def read_lexicon(lex_path):\n",
    "    lexicon = {}\n",
    "    with open(lex_path) as f:\n",
    "        for line in f:\n",
    "            temp = re.split(r\"\\s+\", line.strip(\"\\n\"))\n",
    "            word = temp[0]\n",
    "            phones = temp[1:]\n",
    "            if word.lower() not in lexicon:\n",
    "                lexicon[word.lower()] = phones\n",
    "    return lexicon\n",
    "\n",
    "def text_to_phonemes(text, lexicon):\n",
    "    text = text.lower()\n",
    "    words = re.split(r\"([,;.\\-\\?\\!\\s+])\", text)\n",
    "    \n",
    "    phonemes = []\n",
    "    for word in words:\n",
    "        if word in lexicon:\n",
    "            phoneme = lexicon[word]\n",
    "            phonemes += phoneme\n",
    "        elif len(word.strip()) == 0:\n",
    "            continue\n",
    "        elif word in \",.?!\":\n",
    "            phonemes.append(word)\n",
    "    \n",
    "    phoneme_ids = phoneme_to_ids(\" \".join(phonemes))\n",
    "    phoneme_ids = torch.tensor(phoneme_ids).reshape(1, len(phoneme_ids))\n",
    "    \n",
    "    src_lens = torch.tensor([len(phoneme_ids[0])])\n",
    "\n",
    "    speakers = None\n",
    "    texts = phoneme_ids\n",
    "    src_lens = src_lens\n",
    "    max_src_len = src_lens.max()\n",
    "    mels=None\n",
    "    mel_lens=None\n",
    "    max_mel_len=None\n",
    "    p_targets=None\n",
    "    e_targets=None\n",
    "    d_targets=None\n",
    "    p_control=1.0\n",
    "    e_control=1.0\n",
    "    d_control=1.0\n",
    "\n",
    "    batch = [\n",
    "        speakers, text, texts, src_lens, \\\n",
    "        max_src_len, mels, mel_lens, \\\n",
    "        p_targets, e_targets, d_targets, \\\n",
    "        p_control, e_control, d_control]\n",
    "    \n",
    "    return batch"
   ]
  },
  {
   "cell_type": "code",
   "execution_count": null,
   "metadata": {},
   "outputs": [],
   "source": [
    "preprocess_config = \"configs/preprocess.yaml\"\n",
    "model_config = \"configs/model.yaml\"\n",
    "train_config = \"configs/train.yaml\"\n",
    "\n",
    "preprocess_config = yaml.load(open(preprocess_config, \"r\"), Loader=yaml.FullLoader)\n",
    "model_config = yaml.load(open(model_config, \"r\"), Loader=yaml.FullLoader)\n",
    "train_config = yaml.load(open(train_config, \"r\"), Loader=yaml.FullLoader)\n",
    "configs = (preprocess_config, model_config, train_config)"
   ]
  },
  {
   "cell_type": "code",
   "execution_count": null,
   "metadata": {},
   "outputs": [],
   "source": [
    "# path = \"/data/codes/speech-to-text/stt/output/ckpt/100000.pth.tar\"\n",
    "# state_dict = torch.load(path)\n",
    "\n",
    "# new_state_dict = {\n",
    "#     \"model\": dict(),\n",
    "#     \"optimizer\": state_dict[\"optimizer\"]\n",
    "# }\n",
    "# for key, value in state_dict[\"model\"].items():\n",
    "#     if key.startswith(\"module\"):\n",
    "#         key = \"module.\".join(key.split(\"module.\")[1:])\n",
    "\n",
    "#     new_state_dict[\"model\"][key] = value\n",
    "\n",
    "# torch.save(new_state_dict, \"/data/codes/speech-to-text/stt/output/ckpt/110000.pth.tar\")"
   ]
  },
  {
   "cell_type": "code",
   "execution_count": null,
   "metadata": {},
   "outputs": [],
   "source": [
    "class args:\n",
    "    restore_step = 110000\n",
    "\n",
    "model = get_model(args(), configs, device=\"cpu\", train=False)\n",
    "vocoder = get_vocoder(model_config, device=\"cpu\")\n",
    "lexicon = read_lexicon(\"data/lexicon\")\n",
    "\n",
    "text = \"bị kẻ trộm đi nhà lấy đồ hả\"\n",
    "input_batch = text_to_phonemes(text, lexicon)\n"
   ]
  },
  {
   "cell_type": "code",
   "execution_count": null,
   "metadata": {},
   "outputs": [],
   "source": [
    "output = model(\n",
    "    input_batch\n",
    ")\n",
    "\n",
    "synth_samples(\n",
    "    input_batch,\n",
    "    output,\n",
    "    vocoder,\n",
    "    model_config,\n",
    "    preprocess_config,\n",
    "    train_config[\"path\"][\"result_path\"],\n",
    ")"
   ]
  },
  {
   "cell_type": "code",
   "execution_count": 1,
   "metadata": {},
   "outputs": [
    {
     "name": "stdout",
     "output_type": "stream",
     "text": [
      "57\n"
     ]
    }
   ],
   "source": [
    "text = \" thông báo đấu giá quyền sử dụng đất gồm năm mươi mốt lô đất ở tại khu dân cư thị trấn rừng thông , huyện đông sơn , mặt bằng quy hoạch số bốn nghìn một trăm ba mươi hai , hai nghìn bảy trăm bốn mươi hai , một nghìn tám trăm bảy mươi chín . \"\n",
    "\n",
    "print(len(text.split()))"
   ]
  }
 ],
 "metadata": {
  "kernelspec": {
   "display_name": "ps",
   "language": "python",
   "name": "python3"
  },
  "language_info": {
   "codemirror_mode": {
    "name": "ipython",
    "version": 3
   },
   "file_extension": ".py",
   "mimetype": "text/x-python",
   "name": "python",
   "nbconvert_exporter": "python",
   "pygments_lexer": "ipython3",
   "version": "3.8.17"
  }
 },
 "nbformat": 4,
 "nbformat_minor": 2
}
