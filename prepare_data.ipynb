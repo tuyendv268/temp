{
 "cells": [
  {
   "cell_type": "code",
   "execution_count": 56,
   "metadata": {},
   "outputs": [],
   "source": [
    "import soundfile as sf\n",
    "import numpy as np\n",
    "import requests\n",
    "import librosa\n",
    "import json"
   ]
  },
  {
   "cell_type": "code",
   "execution_count": 2,
   "metadata": {},
   "outputs": [
    {
     "name": "stdout",
     "output_type": "stream",
     "text": [
      "Loading pretrained XLM-Roberta, this may take a while...\n",
      "Loading tokenizer for vietnamese\n",
      "Loading tagger for vietnamese\n",
      "Loading lemmatizer for vietnamese\n",
      "Loading NER tagger for vietnamese\n",
      "==================================================\n",
      "Active language: vietnamese\n",
      "==================================================\n",
      "{'text': 'Hello! This is Trankit.', 'sentences': [{'id': 1, 'text': 'Hello!', 'tokens': [{'id': 1, 'text': 'Hello', 'dspan': (0, 5), 'span': (0, 5)}, {'id': 2, 'text': '!', 'dspan': (5, 6), 'span': (5, 6)}], 'dspan': (0, 6)}, {'id': 2, 'text': 'This is Trankit.', 'tokens': [{'id': 1, 'text': 'This', 'dspan': (7, 11), 'span': (0, 4)}, {'id': 2, 'text': 'is', 'dspan': (12, 14), 'span': (5, 7)}, {'id': 3, 'text': 'Trankit', 'dspan': (15, 22), 'span': (8, 15)}, {'id': 4, 'text': '.', 'dspan': (22, 23), 'span': (15, 16)}], 'dspan': (7, 23)}], 'lang': 'vietnamese'}\n"
     ]
    }
   ],
   "source": [
    "from trankit import Pipeline\n",
    "# initialize a pipeline for English\n",
    "p = Pipeline('vietnamese')"
   ]
  },
  {
   "cell_type": "code",
   "execution_count": 5,
   "metadata": {},
   "outputs": [],
   "source": [
    "# a non-empty string to process, which can be a document or a paragraph with multiple sentences\n",
    "paragraph = \"\"\"\n",
    "Đài truyền thanh thị trấn Rừng Thông xin kính chào toàn thể nhân dân, mời toàn thể nhân dân đón nghe, chương trình phát thanh hôm nay gồm những nội dung sau:\n",
    "1.\tBài tuyên truyền chung sức xây dựng đô thị văn minh. \n",
    "2.\tBản tin tuyên truyền về phát động toàn dân tham gia phong trào: Nhà tôi có bình chữa cháy trên địa bàn thị trấn Rừng Thông.\n",
    "3.\tThông báo tuyên truyền Hụi, họ, biêu, phường và những hệ lụy khôn lường.\n",
    "4.\tThông báo đấu giá Quyền sử dụng đất gồm 51 lô đất ở tại khu dân cư thị trấn Rừng Thông, huyện Đông Sơn, Mặt bằng quy hoạch số 4132, 2742, 1879.\n",
    "5.\tThông báo Thanh niên khám tuyển nghĩa vụ quân sự tại huyện năm 2024.\n",
    "Sau đây là nội dung chi tiết.\n",
    "\"\"\"\n",
    "tokenized_doc = p.tokenize(paragraph)\n",
    "\n",
    "sentences = [sentence[\"text\"] for sentence in tokenized_doc[\"sentences\"]]\n"
   ]
  },
  {
   "cell_type": "code",
   "execution_count": 6,
   "metadata": {},
   "outputs": [
    {
     "data": {
      "text/plain": [
       "['Đài truyền thanh thị trấn Rừng Thông xin kính chào toàn thể nhân dân, mời toàn thể nhân dân đón nghe, chương trình phát thanh hôm nay gồm những nội dung sau:',\n",
       " '1.',\n",
       " 'Bài tuyên truyền chung sức xây dựng đô thị văn minh.',\n",
       " '2.',\n",
       " 'Bản tin tuyên truyền về phát động toàn dân tham gia phong trào: Nhà tôi có bình chữa cháy trên địa bàn thị trấn Rừng Thông.',\n",
       " '3.',\n",
       " 'Thông báo tuyên truyền',\n",
       " 'Hụi, họ, biêu, phường và những hệ lụy khôn lường.',\n",
       " '4.',\n",
       " 'Thông báo đấu giá Quyền sử dụng đất gồm 51 lô đất ở tại khu dân cư thị trấn Rừng Thông, huyện Đông Sơn, Mặt bằng quy hoạch số 4132, 2742, 1879.',\n",
       " '5.',\n",
       " 'Thông báo Thanh niên khám tuyển nghĩa vụ quân sự tại huyện năm 2024.',\n",
       " 'Sau đây là nội dung chi tiết.']"
      ]
     },
     "execution_count": 6,
     "metadata": {},
     "output_type": "execute_result"
    }
   ],
   "source": [
    "sentences"
   ]
  },
  {
   "cell_type": "code",
   "execution_count": 57,
   "metadata": {},
   "outputs": [],
   "source": [
    "from underthesea import sent_tokenize\n",
    "from norm.src.processing import run\n",
    "from trankit import Pipeline\n",
    "from multiprocessing import Pool"
   ]
  },
  {
   "cell_type": "code",
   "execution_count": 58,
   "metadata": {},
   "outputs": [],
   "source": [
    "paragraph = \"\"\"\n",
    "Đài truyền thanh thị trấn Rừng Thông xin kính chào toàn thể nhân dân, mời toàn thể nhân dân đón nghe, chương trình phát thanh hôm nay gồm những nội dung sau:\n",
    "1.\tBài tuyên truyền chung sức xây dựng đô thị văn minh. \n",
    "2.\tBản tin tuyên truyền về phát động toàn dân tham gia phong trào: Nhà tôi có bình chữa cháy trên địa bàn thị trấn Rừng Thông.\n",
    "3.\tThông báo tuyên truyền Hụi, họ, biêu, phường và những hệ lụy khôn lường.\n",
    "4.\tThông báo đấu giá Quyền sử dụng đất gồm 51 lô đất ở tại khu dân cư thị trấn Rừng Thông, huyện Đông Sơn, Mặt bằng quy hoạch số 4132, 2742, 1879.\n",
    "5.\tThông báo Thanh niên khám tuyển nghĩa vụ quân sự tại huyện năm 2024.\n",
    "Sau đây là nội dung chi tiết.\n",
    "\"\"\""
   ]
  },
  {
   "cell_type": "code",
   "execution_count": 59,
   "metadata": {},
   "outputs": [
    {
     "data": {
      "text/plain": [
       "['\\nĐài truyền thanh thị trấn Rừng Thông xin kính chào toàn thể nhân dân, mời toàn thể nhân dân đón nghe, chương trình phát thanh hôm nay gồm những nội dung sau:\\n1.',\n",
       " 'Bài tuyên truyền chung sức xây dựng đô thị văn minh.',\n",
       " '2.',\n",
       " 'Bản tin tuyên truyền về phát động toàn dân tham gia phong trào: Nhà tôi có bình chữa cháy trên địa bàn thị trấn Rừng Thông.',\n",
       " '3.',\n",
       " 'Thông báo tuyên truyền Hụi, họ, biêu, phường và những hệ lụy khôn lường.',\n",
       " '4.',\n",
       " 'Thông báo đấu giá Quyền sử dụng đất gồm 51 lô đất ở tại khu dân cư thị trấn Rừng Thông, huyện Đông Sơn, Mặt bằng quy hoạch số 4132, 2742, 1879.',\n",
       " '5.',\n",
       " 'Thông báo Thanh niên khám tuyển nghĩa vụ quân sự tại huyện năm 2024.',\n",
       " 'Sau đây là nội dung chi tiết.']"
      ]
     },
     "execution_count": 59,
     "metadata": {},
     "output_type": "execute_result"
    }
   ],
   "source": [
    "def segment_doc(document, max_chunk_size=24, max_num_sent=1):\n",
    "    chunks = []\n",
    "    \n",
    "    tokenized_doc = sent_tokenize(document)\n",
    "    current_sent = tokenized_doc[0]\n",
    "    current_length, current_num_sent = len(current_sent.split()), 1\n",
    "    for sent in tokenized_doc[1:]:\n",
    "        temp = f'{current_sent} {sent}'\n",
    "        \n",
    "        if len(temp.split()) > max_chunk_size or current_num_sent >= max_num_sent:\n",
    "            chunks.append(current_sent)\n",
    "            \n",
    "            current_sent = sent\n",
    "            current_length = len(sent.split())\n",
    "            current_num_sent = 1\n",
    "        else:\n",
    "            current_sent = temp\n",
    "            current_length += len(temp.split())\n",
    "        \n",
    "        current_num_sent += 1\n",
    "    \n",
    "    if chunks[-1] != current_sent:\n",
    "        chunks.append(current_sent)\n",
    "        \n",
    "    return chunks\n",
    "\n",
    "docs = segment_doc(paragraph)\n",
    "docs"
   ]
  },
  {
   "cell_type": "code",
   "execution_count": 60,
   "metadata": {},
   "outputs": [],
   "source": [
    "def infer(text, sample_rate=22050):\n",
    "    text = run(text)\n",
    "        \n",
    "    mel = requests.post(\n",
    "        url='http://127.0.0.1:9090/predictions/encoder',\n",
    "        json={\n",
    "            \"text\": f'{text}'\n",
    "        }\n",
    "    )\n",
    "    \n",
    "    wav = requests.post(\n",
    "        url='http://127.0.0.1:9090/predictions/vocoder',\n",
    "        json={\n",
    "            \"mel\": json.dumps(json.loads(mel.content))\n",
    "        }\n",
    "    )\n",
    "    wav = np.array(json.loads(wav.content))[0]\n",
    "    \n",
    "    return wav, text"
   ]
  },
  {
   "cell_type": "code",
   "execution_count": 61,
   "metadata": {},
   "outputs": [
    {
     "name": "stdout",
     "output_type": "stream",
     "text": [
      "đài truyền thanh thị trấn rừng thông xin kính chào toàn thể nhân dân , mời toàn thể nhân dân đón nghe , chương trình phát thanh hôm nay gồm những nội dung sau một .\n"
     ]
    },
    {
     "name": "stdout",
     "output_type": "stream",
     "text": [
      "bài tuyên truyền chung sức xây dựng đô thị văn minh .\n",
      "hai .\n",
      "bản tin tuyên truyền về phát động toàn dân tham gia phong trào nhà tôi có bình chữa cháy trên địa bàn thị trấn rừng thông .\n",
      "ba .\n",
      "thông báo tuyên truyền hụi , họ , biêu , phường và những hệ lụy khôn lường .\n",
      "bốn .\n",
      "thông báo đấu giá quyền sử dụng đất gồm năm mươi mốt lô đất ở tại khu dân cư thị trấn rừng thông , huyện đông sơn , mặt bằng quy hoạch số bốn nghìn một trăm ba mươi hai , hai nghìn bảy trăm bốn mươi hai , một nghìn tám trăm bảy mươi chín .\n",
      "năm .\n",
      "thông báo thanh niên khám tuyển nghĩa vụ quân sự tại huyện năm hai nghìn không trăm hai mươi bốn .\n",
      "sau đây là nội dung chi tiết .\n"
     ]
    }
   ],
   "source": [
    "from concurrent.futures import ProcessPoolExecutor, as_completed\n",
    "\n",
    "docs = segment_doc(paragraph)\n",
    "\n",
    "with ProcessPoolExecutor(max_workers=1) as executor:\n",
    "    futures = (executor.submit(infer, doc) for doc in docs)\n",
    "\n",
    "    wavs = []\n",
    "    for future in as_completed(futures):\n",
    "        wav = future.result()\n",
    "        wavs.append(wav)"
   ]
  },
  {
   "cell_type": "code",
   "execution_count": 62,
   "metadata": {},
   "outputs": [],
   "source": [
    "waveform = np.concatenate(wavs)\n",
    "sf.write(\"test.wav\", waveform, samplerate=22050)"
   ]
  }
 ],
 "metadata": {
  "kernelspec": {
   "display_name": "ps",
   "language": "python",
   "name": "python3"
  },
  "language_info": {
   "codemirror_mode": {
    "name": "ipython",
    "version": 3
   },
   "file_extension": ".py",
   "mimetype": "text/x-python",
   "name": "python",
   "nbconvert_exporter": "python",
   "pygments_lexer": "ipython3",
   "version": "3.8.17"
  }
 },
 "nbformat": 4,
 "nbformat_minor": 2
}
